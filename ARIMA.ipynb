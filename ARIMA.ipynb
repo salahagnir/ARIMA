{
  "nbformat": 4,
  "nbformat_minor": 0,
  "metadata": {
    "colab": {
      "provenance": []
    },
    "kernelspec": {
      "name": "python3",
      "display_name": "Python 3"
    },
    "language_info": {
      "name": "python"
    }
  },
  "cells": [
    {
      "cell_type": "code",
      "execution_count": null,
      "metadata": {
        "colab": {
          "base_uri": "https://localhost:8080/"
        },
        "id": "3u7ndPq5HW2Y",
        "outputId": "1699b1eb-e79f-460f-baa9-b05446b821e1"
      },
      "outputs": [
        {
          "output_type": "stream",
          "name": "stdout",
          "text": [
            "Looking in indexes: https://pypi.org/simple, https://us-python.pkg.dev/colab-wheels/public/simple/\n",
            "Collecting pmdarima\n",
            "  Downloading pmdarima-2.0.2-cp38-cp38-manylinux_2_17_x86_64.manylinux2014_x86_64.manylinux_2_28_x86_64.whl (1.9 MB)\n",
            "\u001b[2K     \u001b[90m━━━━━━━━━━━━━━━━━━━━━━━━━━━━━━━━━━━━━━━━\u001b[0m \u001b[32m1.9/1.9 MB\u001b[0m \u001b[31m25.6 MB/s\u001b[0m eta \u001b[36m0:00:00\u001b[0m\n",
            "\u001b[?25hRequirement already satisfied: Cython!=0.29.18,!=0.29.31,>=0.29 in /usr/local/lib/python3.8/dist-packages (from pmdarima) (0.29.32)\n",
            "Requirement already satisfied: numpy>=1.21.2 in /usr/local/lib/python3.8/dist-packages (from pmdarima) (1.21.6)\n",
            "Requirement already satisfied: joblib>=0.11 in /usr/local/lib/python3.8/dist-packages (from pmdarima) (1.2.0)\n",
            "Collecting statsmodels>=0.13.2\n",
            "  Downloading statsmodels-0.13.5-cp38-cp38-manylinux_2_17_x86_64.manylinux2014_x86_64.whl (9.9 MB)\n",
            "\u001b[2K     \u001b[90m━━━━━━━━━━━━━━━━━━━━━━━━━━━━━━━━━━━━━━━━\u001b[0m \u001b[32m9.9/9.9 MB\u001b[0m \u001b[31m65.4 MB/s\u001b[0m eta \u001b[36m0:00:00\u001b[0m\n",
            "\u001b[?25hRequirement already satisfied: setuptools!=50.0.0,>=38.6.0 in /usr/local/lib/python3.8/dist-packages (from pmdarima) (57.4.0)\n",
            "Requirement already satisfied: pandas>=0.19 in /usr/local/lib/python3.8/dist-packages (from pmdarima) (1.3.5)\n",
            "Requirement already satisfied: urllib3 in /usr/local/lib/python3.8/dist-packages (from pmdarima) (1.24.3)\n",
            "Requirement already satisfied: scipy>=1.3.2 in /usr/local/lib/python3.8/dist-packages (from pmdarima) (1.7.3)\n",
            "Requirement already satisfied: scikit-learn>=0.22 in /usr/local/lib/python3.8/dist-packages (from pmdarima) (1.0.2)\n",
            "Requirement already satisfied: pytz>=2017.3 in /usr/local/lib/python3.8/dist-packages (from pandas>=0.19->pmdarima) (2022.7)\n",
            "Requirement already satisfied: python-dateutil>=2.7.3 in /usr/local/lib/python3.8/dist-packages (from pandas>=0.19->pmdarima) (2.8.2)\n",
            "Requirement already satisfied: threadpoolctl>=2.0.0 in /usr/local/lib/python3.8/dist-packages (from scikit-learn>=0.22->pmdarima) (3.1.0)\n",
            "Requirement already satisfied: packaging>=21.3 in /usr/local/lib/python3.8/dist-packages (from statsmodels>=0.13.2->pmdarima) (21.3)\n",
            "Requirement already satisfied: patsy>=0.5.2 in /usr/local/lib/python3.8/dist-packages (from statsmodels>=0.13.2->pmdarima) (0.5.3)\n",
            "Requirement already satisfied: pyparsing!=3.0.5,>=2.0.2 in /usr/local/lib/python3.8/dist-packages (from packaging>=21.3->statsmodels>=0.13.2->pmdarima) (3.0.9)\n",
            "Requirement already satisfied: six in /usr/local/lib/python3.8/dist-packages (from patsy>=0.5.2->statsmodels>=0.13.2->pmdarima) (1.15.0)\n",
            "Installing collected packages: statsmodels, pmdarima\n",
            "  Attempting uninstall: statsmodels\n",
            "    Found existing installation: statsmodels 0.12.2\n",
            "    Uninstalling statsmodels-0.12.2:\n",
            "      Successfully uninstalled statsmodels-0.12.2\n",
            "Successfully installed pmdarima-2.0.2 statsmodels-0.13.5\n"
          ]
        }
      ],
      "source": [
        "# Installation of additional libraries\n",
        "!pip install pmdarima\n",
        "\n",
        "# import the libraries\n",
        "import pandas as pd\n",
        "import numpy as np\n",
        "from matplotlib import pyplot as plt\n",
        "%matplotlib inline\n",
        "from statsmodels.graphics.tsaplots import plot_acf, plot_pacf \n",
        "from statsmodels.tsa.arima_model import ARIMA\n",
        "import statsmodels.api as sm\n",
        "import statsmodels.tsa.api as smtsa\n",
        "from pmdarima import auto_arima\n",
        "import os\n",
        "from statsmodels.tsa.arima.model import ARIMA\n",
        "import warnings\n",
        "warnings.filterwarnings(\"ignore\")"
      ]
    },
    {
      "cell_type": "code",
      "source": [
        "#read the data\n",
        "df = pd.read_csv(\"/content/drive/MyDrive/CA2 MLB 21 12 2022/BAJAJFINSV.csv\" , parse_dates=['Date'], index_col=['Date'])"
      ],
      "metadata": {
        "id": "ort-EOGnIkYZ"
      },
      "execution_count": null,
      "outputs": []
    },
    {
      "cell_type": "markdown",
      "source": [
        "I have to parse the columns that has the date on it.Python can then read date as date format.I made the columns date as an index."
      ],
      "metadata": {
        "id": "QICixIpb1NoV"
      }
    },
    {
      "cell_type": "code",
      "source": [
        "# Display first 5 records.\n",
        "df.head(5)"
      ],
      "metadata": {
        "colab": {
          "base_uri": "https://localhost:8080/",
          "height": 237
        },
        "id": "ZuOArHsVJBAY",
        "outputId": "543ce854-218d-4a16-cd08-c615e49c857f"
      },
      "execution_count": null,
      "outputs": [
        {
          "output_type": "execute_result",
          "data": {
            "text/plain": [
              "                Symbol Series  Prev Close    Open    High    Low   Last  \\\n",
              "Date                                                                      \n",
              "2008-05-26  BAJAJFINSV     EQ     2101.05  600.00  619.00  501.0  505.1   \n",
              "2008-05-27  BAJAJFINSV     EQ      509.10  505.00  610.95  491.1  564.0   \n",
              "2008-05-28  BAJAJFINSV     EQ      554.65  564.00  665.60  564.0  643.0   \n",
              "2008-05-29  BAJAJFINSV     EQ      640.95  656.65  703.00  608.0  634.5   \n",
              "2008-05-30  BAJAJFINSV     EQ      632.40  642.40  668.00  588.3  647.0   \n",
              "\n",
              "             Close    VWAP   Volume      Turnover  Trades  Deliverable Volume  \\\n",
              "Date                                                                            \n",
              "2008-05-26  509.10  548.85  3145446  1.726368e+14     NaN              908264   \n",
              "2008-05-27  554.65  572.15  4349144  2.488370e+14     NaN              677627   \n",
              "2008-05-28  640.95  618.37  4588759  2.837530e+14     NaN              774895   \n",
              "2008-05-29  632.40  659.60  4522302  2.982921e+14     NaN             1006161   \n",
              "2008-05-30  644.00  636.41  3057669  1.945929e+14     NaN              462832   \n",
              "\n",
              "            %Deliverble  \n",
              "Date                     \n",
              "2008-05-26       0.2888  \n",
              "2008-05-27       0.1558  \n",
              "2008-05-28       0.1689  \n",
              "2008-05-29       0.2225  \n",
              "2008-05-30       0.1514  "
            ],
            "text/html": [
              "\n",
              "  <div id=\"df-bfae8ee3-d08a-454f-985d-e168fec05092\">\n",
              "    <div class=\"colab-df-container\">\n",
              "      <div>\n",
              "<style scoped>\n",
              "    .dataframe tbody tr th:only-of-type {\n",
              "        vertical-align: middle;\n",
              "    }\n",
              "\n",
              "    .dataframe tbody tr th {\n",
              "        vertical-align: top;\n",
              "    }\n",
              "\n",
              "    .dataframe thead th {\n",
              "        text-align: right;\n",
              "    }\n",
              "</style>\n",
              "<table border=\"1\" class=\"dataframe\">\n",
              "  <thead>\n",
              "    <tr style=\"text-align: right;\">\n",
              "      <th></th>\n",
              "      <th>Symbol</th>\n",
              "      <th>Series</th>\n",
              "      <th>Prev Close</th>\n",
              "      <th>Open</th>\n",
              "      <th>High</th>\n",
              "      <th>Low</th>\n",
              "      <th>Last</th>\n",
              "      <th>Close</th>\n",
              "      <th>VWAP</th>\n",
              "      <th>Volume</th>\n",
              "      <th>Turnover</th>\n",
              "      <th>Trades</th>\n",
              "      <th>Deliverable Volume</th>\n",
              "      <th>%Deliverble</th>\n",
              "    </tr>\n",
              "    <tr>\n",
              "      <th>Date</th>\n",
              "      <th></th>\n",
              "      <th></th>\n",
              "      <th></th>\n",
              "      <th></th>\n",
              "      <th></th>\n",
              "      <th></th>\n",
              "      <th></th>\n",
              "      <th></th>\n",
              "      <th></th>\n",
              "      <th></th>\n",
              "      <th></th>\n",
              "      <th></th>\n",
              "      <th></th>\n",
              "      <th></th>\n",
              "    </tr>\n",
              "  </thead>\n",
              "  <tbody>\n",
              "    <tr>\n",
              "      <th>2008-05-26</th>\n",
              "      <td>BAJAJFINSV</td>\n",
              "      <td>EQ</td>\n",
              "      <td>2101.05</td>\n",
              "      <td>600.00</td>\n",
              "      <td>619.00</td>\n",
              "      <td>501.0</td>\n",
              "      <td>505.1</td>\n",
              "      <td>509.10</td>\n",
              "      <td>548.85</td>\n",
              "      <td>3145446</td>\n",
              "      <td>1.726368e+14</td>\n",
              "      <td>NaN</td>\n",
              "      <td>908264</td>\n",
              "      <td>0.2888</td>\n",
              "    </tr>\n",
              "    <tr>\n",
              "      <th>2008-05-27</th>\n",
              "      <td>BAJAJFINSV</td>\n",
              "      <td>EQ</td>\n",
              "      <td>509.10</td>\n",
              "      <td>505.00</td>\n",
              "      <td>610.95</td>\n",
              "      <td>491.1</td>\n",
              "      <td>564.0</td>\n",
              "      <td>554.65</td>\n",
              "      <td>572.15</td>\n",
              "      <td>4349144</td>\n",
              "      <td>2.488370e+14</td>\n",
              "      <td>NaN</td>\n",
              "      <td>677627</td>\n",
              "      <td>0.1558</td>\n",
              "    </tr>\n",
              "    <tr>\n",
              "      <th>2008-05-28</th>\n",
              "      <td>BAJAJFINSV</td>\n",
              "      <td>EQ</td>\n",
              "      <td>554.65</td>\n",
              "      <td>564.00</td>\n",
              "      <td>665.60</td>\n",
              "      <td>564.0</td>\n",
              "      <td>643.0</td>\n",
              "      <td>640.95</td>\n",
              "      <td>618.37</td>\n",
              "      <td>4588759</td>\n",
              "      <td>2.837530e+14</td>\n",
              "      <td>NaN</td>\n",
              "      <td>774895</td>\n",
              "      <td>0.1689</td>\n",
              "    </tr>\n",
              "    <tr>\n",
              "      <th>2008-05-29</th>\n",
              "      <td>BAJAJFINSV</td>\n",
              "      <td>EQ</td>\n",
              "      <td>640.95</td>\n",
              "      <td>656.65</td>\n",
              "      <td>703.00</td>\n",
              "      <td>608.0</td>\n",
              "      <td>634.5</td>\n",
              "      <td>632.40</td>\n",
              "      <td>659.60</td>\n",
              "      <td>4522302</td>\n",
              "      <td>2.982921e+14</td>\n",
              "      <td>NaN</td>\n",
              "      <td>1006161</td>\n",
              "      <td>0.2225</td>\n",
              "    </tr>\n",
              "    <tr>\n",
              "      <th>2008-05-30</th>\n",
              "      <td>BAJAJFINSV</td>\n",
              "      <td>EQ</td>\n",
              "      <td>632.40</td>\n",
              "      <td>642.40</td>\n",
              "      <td>668.00</td>\n",
              "      <td>588.3</td>\n",
              "      <td>647.0</td>\n",
              "      <td>644.00</td>\n",
              "      <td>636.41</td>\n",
              "      <td>3057669</td>\n",
              "      <td>1.945929e+14</td>\n",
              "      <td>NaN</td>\n",
              "      <td>462832</td>\n",
              "      <td>0.1514</td>\n",
              "    </tr>\n",
              "  </tbody>\n",
              "</table>\n",
              "</div>\n",
              "      <button class=\"colab-df-convert\" onclick=\"convertToInteractive('df-bfae8ee3-d08a-454f-985d-e168fec05092')\"\n",
              "              title=\"Convert this dataframe to an interactive table.\"\n",
              "              style=\"display:none;\">\n",
              "        \n",
              "  <svg xmlns=\"http://www.w3.org/2000/svg\" height=\"24px\"viewBox=\"0 0 24 24\"\n",
              "       width=\"24px\">\n",
              "    <path d=\"M0 0h24v24H0V0z\" fill=\"none\"/>\n",
              "    <path d=\"M18.56 5.44l.94 2.06.94-2.06 2.06-.94-2.06-.94-.94-2.06-.94 2.06-2.06.94zm-11 1L8.5 8.5l.94-2.06 2.06-.94-2.06-.94L8.5 2.5l-.94 2.06-2.06.94zm10 10l.94 2.06.94-2.06 2.06-.94-2.06-.94-.94-2.06-.94 2.06-2.06.94z\"/><path d=\"M17.41 7.96l-1.37-1.37c-.4-.4-.92-.59-1.43-.59-.52 0-1.04.2-1.43.59L10.3 9.45l-7.72 7.72c-.78.78-.78 2.05 0 2.83L4 21.41c.39.39.9.59 1.41.59.51 0 1.02-.2 1.41-.59l7.78-7.78 2.81-2.81c.8-.78.8-2.07 0-2.86zM5.41 20L4 18.59l7.72-7.72 1.47 1.35L5.41 20z\"/>\n",
              "  </svg>\n",
              "      </button>\n",
              "      \n",
              "  <style>\n",
              "    .colab-df-container {\n",
              "      display:flex;\n",
              "      flex-wrap:wrap;\n",
              "      gap: 12px;\n",
              "    }\n",
              "\n",
              "    .colab-df-convert {\n",
              "      background-color: #E8F0FE;\n",
              "      border: none;\n",
              "      border-radius: 50%;\n",
              "      cursor: pointer;\n",
              "      display: none;\n",
              "      fill: #1967D2;\n",
              "      height: 32px;\n",
              "      padding: 0 0 0 0;\n",
              "      width: 32px;\n",
              "    }\n",
              "\n",
              "    .colab-df-convert:hover {\n",
              "      background-color: #E2EBFA;\n",
              "      box-shadow: 0px 1px 2px rgba(60, 64, 67, 0.3), 0px 1px 3px 1px rgba(60, 64, 67, 0.15);\n",
              "      fill: #174EA6;\n",
              "    }\n",
              "\n",
              "    [theme=dark] .colab-df-convert {\n",
              "      background-color: #3B4455;\n",
              "      fill: #D2E3FC;\n",
              "    }\n",
              "\n",
              "    [theme=dark] .colab-df-convert:hover {\n",
              "      background-color: #434B5C;\n",
              "      box-shadow: 0px 1px 3px 1px rgba(0, 0, 0, 0.15);\n",
              "      filter: drop-shadow(0px 1px 2px rgba(0, 0, 0, 0.3));\n",
              "      fill: #FFFFFF;\n",
              "    }\n",
              "  </style>\n",
              "\n",
              "      <script>\n",
              "        const buttonEl =\n",
              "          document.querySelector('#df-bfae8ee3-d08a-454f-985d-e168fec05092 button.colab-df-convert');\n",
              "        buttonEl.style.display =\n",
              "          google.colab.kernel.accessAllowed ? 'block' : 'none';\n",
              "\n",
              "        async function convertToInteractive(key) {\n",
              "          const element = document.querySelector('#df-bfae8ee3-d08a-454f-985d-e168fec05092');\n",
              "          const dataTable =\n",
              "            await google.colab.kernel.invokeFunction('convertToInteractive',\n",
              "                                                     [key], {});\n",
              "          if (!dataTable) return;\n",
              "\n",
              "          const docLinkHtml = 'Like what you see? Visit the ' +\n",
              "            '<a target=\"_blank\" href=https://colab.research.google.com/notebooks/data_table.ipynb>data table notebook</a>'\n",
              "            + ' to learn more about interactive tables.';\n",
              "          element.innerHTML = '';\n",
              "          dataTable['output_type'] = 'display_data';\n",
              "          await google.colab.output.renderOutput(dataTable, element);\n",
              "          const docLink = document.createElement('div');\n",
              "          docLink.innerHTML = docLinkHtml;\n",
              "          element.appendChild(docLink);\n",
              "        }\n",
              "      </script>\n",
              "    </div>\n",
              "  </div>\n",
              "  "
            ]
          },
          "metadata": {},
          "execution_count": 3
        }
      ]
    },
    {
      "cell_type": "code",
      "source": [
        "# View into statistics summary of data.\n",
        "df.describe()"
      ],
      "metadata": {
        "colab": {
          "base_uri": "https://localhost:8080/",
          "height": 300
        },
        "id": "JPv92DovJKfg",
        "outputId": "02ad95db-190e-4d6a-821e-6b0f5349ca06"
      },
      "execution_count": null,
      "outputs": [
        {
          "output_type": "execute_result",
          "data": {
            "text/plain": [
              "         Prev Close          Open          High           Low          Last  \\\n",
              "count   3201.000000   3201.000000   3201.000000   3201.000000   3201.000000   \n",
              "mean    2755.864386   2760.382381   2803.614449   2716.731443   2758.781537   \n",
              "std     2869.811765   2874.814173   2912.885262   2834.037357   2873.792614   \n",
              "min       90.750000     88.150000     93.100000     88.150000     91.000000   \n",
              "25%      527.900000    528.600000    542.600000    520.000000    527.950000   \n",
              "50%     1098.700000   1095.000000   1118.000000   1080.250000   1100.000000   \n",
              "75%     5121.900000   5120.000000   5199.800000   5042.800000   5115.000000   \n",
              "max    11176.550000  11000.000000  11300.000000  10868.700000  11175.450000   \n",
              "\n",
              "              Close          VWAP        Volume      Turnover         Trades  \\\n",
              "count   3201.000000   3201.000000  3.201000e+03  3.201000e+03    2456.000000   \n",
              "mean    2758.657451   2761.156954  2.315312e+05  9.533424e+13   20892.811075   \n",
              "std     2873.522615   2874.033545  4.402681e+05  2.176448e+14   32396.302068   \n",
              "min       90.750000     89.260000  4.570000e+02  1.376712e+10     149.000000   \n",
              "25%      527.900000    531.270000  3.981100e+04  2.751053e+12    2951.750000   \n",
              "50%     1098.700000   1103.560000  9.995300e+04  1.090486e+13    9450.000000   \n",
              "75%     5125.100000   5127.510000  2.315400e+05  8.755946e+13   24439.750000   \n",
              "max    11176.550000  11081.780000  6.271671e+06  3.394379e+15  312959.000000   \n",
              "\n",
              "       Deliverable Volume  %Deliverble  \n",
              "count        3.201000e+03  3201.000000  \n",
              "mean         7.409510e+04     0.471614  \n",
              "std          1.464012e+05     0.218910  \n",
              "min          4.560000e+02     0.056200  \n",
              "25%          2.086300e+04     0.287400  \n",
              "50%          4.159700e+04     0.469700  \n",
              "75%          8.308900e+04     0.636000  \n",
              "max          3.804696e+06     1.000000  "
            ],
            "text/html": [
              "\n",
              "  <div id=\"df-0b102f4c-0454-4459-9835-21357949a9ad\">\n",
              "    <div class=\"colab-df-container\">\n",
              "      <div>\n",
              "<style scoped>\n",
              "    .dataframe tbody tr th:only-of-type {\n",
              "        vertical-align: middle;\n",
              "    }\n",
              "\n",
              "    .dataframe tbody tr th {\n",
              "        vertical-align: top;\n",
              "    }\n",
              "\n",
              "    .dataframe thead th {\n",
              "        text-align: right;\n",
              "    }\n",
              "</style>\n",
              "<table border=\"1\" class=\"dataframe\">\n",
              "  <thead>\n",
              "    <tr style=\"text-align: right;\">\n",
              "      <th></th>\n",
              "      <th>Prev Close</th>\n",
              "      <th>Open</th>\n",
              "      <th>High</th>\n",
              "      <th>Low</th>\n",
              "      <th>Last</th>\n",
              "      <th>Close</th>\n",
              "      <th>VWAP</th>\n",
              "      <th>Volume</th>\n",
              "      <th>Turnover</th>\n",
              "      <th>Trades</th>\n",
              "      <th>Deliverable Volume</th>\n",
              "      <th>%Deliverble</th>\n",
              "    </tr>\n",
              "  </thead>\n",
              "  <tbody>\n",
              "    <tr>\n",
              "      <th>count</th>\n",
              "      <td>3201.000000</td>\n",
              "      <td>3201.000000</td>\n",
              "      <td>3201.000000</td>\n",
              "      <td>3201.000000</td>\n",
              "      <td>3201.000000</td>\n",
              "      <td>3201.000000</td>\n",
              "      <td>3201.000000</td>\n",
              "      <td>3.201000e+03</td>\n",
              "      <td>3.201000e+03</td>\n",
              "      <td>2456.000000</td>\n",
              "      <td>3.201000e+03</td>\n",
              "      <td>3201.000000</td>\n",
              "    </tr>\n",
              "    <tr>\n",
              "      <th>mean</th>\n",
              "      <td>2755.864386</td>\n",
              "      <td>2760.382381</td>\n",
              "      <td>2803.614449</td>\n",
              "      <td>2716.731443</td>\n",
              "      <td>2758.781537</td>\n",
              "      <td>2758.657451</td>\n",
              "      <td>2761.156954</td>\n",
              "      <td>2.315312e+05</td>\n",
              "      <td>9.533424e+13</td>\n",
              "      <td>20892.811075</td>\n",
              "      <td>7.409510e+04</td>\n",
              "      <td>0.471614</td>\n",
              "    </tr>\n",
              "    <tr>\n",
              "      <th>std</th>\n",
              "      <td>2869.811765</td>\n",
              "      <td>2874.814173</td>\n",
              "      <td>2912.885262</td>\n",
              "      <td>2834.037357</td>\n",
              "      <td>2873.792614</td>\n",
              "      <td>2873.522615</td>\n",
              "      <td>2874.033545</td>\n",
              "      <td>4.402681e+05</td>\n",
              "      <td>2.176448e+14</td>\n",
              "      <td>32396.302068</td>\n",
              "      <td>1.464012e+05</td>\n",
              "      <td>0.218910</td>\n",
              "    </tr>\n",
              "    <tr>\n",
              "      <th>min</th>\n",
              "      <td>90.750000</td>\n",
              "      <td>88.150000</td>\n",
              "      <td>93.100000</td>\n",
              "      <td>88.150000</td>\n",
              "      <td>91.000000</td>\n",
              "      <td>90.750000</td>\n",
              "      <td>89.260000</td>\n",
              "      <td>4.570000e+02</td>\n",
              "      <td>1.376712e+10</td>\n",
              "      <td>149.000000</td>\n",
              "      <td>4.560000e+02</td>\n",
              "      <td>0.056200</td>\n",
              "    </tr>\n",
              "    <tr>\n",
              "      <th>25%</th>\n",
              "      <td>527.900000</td>\n",
              "      <td>528.600000</td>\n",
              "      <td>542.600000</td>\n",
              "      <td>520.000000</td>\n",
              "      <td>527.950000</td>\n",
              "      <td>527.900000</td>\n",
              "      <td>531.270000</td>\n",
              "      <td>3.981100e+04</td>\n",
              "      <td>2.751053e+12</td>\n",
              "      <td>2951.750000</td>\n",
              "      <td>2.086300e+04</td>\n",
              "      <td>0.287400</td>\n",
              "    </tr>\n",
              "    <tr>\n",
              "      <th>50%</th>\n",
              "      <td>1098.700000</td>\n",
              "      <td>1095.000000</td>\n",
              "      <td>1118.000000</td>\n",
              "      <td>1080.250000</td>\n",
              "      <td>1100.000000</td>\n",
              "      <td>1098.700000</td>\n",
              "      <td>1103.560000</td>\n",
              "      <td>9.995300e+04</td>\n",
              "      <td>1.090486e+13</td>\n",
              "      <td>9450.000000</td>\n",
              "      <td>4.159700e+04</td>\n",
              "      <td>0.469700</td>\n",
              "    </tr>\n",
              "    <tr>\n",
              "      <th>75%</th>\n",
              "      <td>5121.900000</td>\n",
              "      <td>5120.000000</td>\n",
              "      <td>5199.800000</td>\n",
              "      <td>5042.800000</td>\n",
              "      <td>5115.000000</td>\n",
              "      <td>5125.100000</td>\n",
              "      <td>5127.510000</td>\n",
              "      <td>2.315400e+05</td>\n",
              "      <td>8.755946e+13</td>\n",
              "      <td>24439.750000</td>\n",
              "      <td>8.308900e+04</td>\n",
              "      <td>0.636000</td>\n",
              "    </tr>\n",
              "    <tr>\n",
              "      <th>max</th>\n",
              "      <td>11176.550000</td>\n",
              "      <td>11000.000000</td>\n",
              "      <td>11300.000000</td>\n",
              "      <td>10868.700000</td>\n",
              "      <td>11175.450000</td>\n",
              "      <td>11176.550000</td>\n",
              "      <td>11081.780000</td>\n",
              "      <td>6.271671e+06</td>\n",
              "      <td>3.394379e+15</td>\n",
              "      <td>312959.000000</td>\n",
              "      <td>3.804696e+06</td>\n",
              "      <td>1.000000</td>\n",
              "    </tr>\n",
              "  </tbody>\n",
              "</table>\n",
              "</div>\n",
              "      <button class=\"colab-df-convert\" onclick=\"convertToInteractive('df-0b102f4c-0454-4459-9835-21357949a9ad')\"\n",
              "              title=\"Convert this dataframe to an interactive table.\"\n",
              "              style=\"display:none;\">\n",
              "        \n",
              "  <svg xmlns=\"http://www.w3.org/2000/svg\" height=\"24px\"viewBox=\"0 0 24 24\"\n",
              "       width=\"24px\">\n",
              "    <path d=\"M0 0h24v24H0V0z\" fill=\"none\"/>\n",
              "    <path d=\"M18.56 5.44l.94 2.06.94-2.06 2.06-.94-2.06-.94-.94-2.06-.94 2.06-2.06.94zm-11 1L8.5 8.5l.94-2.06 2.06-.94-2.06-.94L8.5 2.5l-.94 2.06-2.06.94zm10 10l.94 2.06.94-2.06 2.06-.94-2.06-.94-.94-2.06-.94 2.06-2.06.94z\"/><path d=\"M17.41 7.96l-1.37-1.37c-.4-.4-.92-.59-1.43-.59-.52 0-1.04.2-1.43.59L10.3 9.45l-7.72 7.72c-.78.78-.78 2.05 0 2.83L4 21.41c.39.39.9.59 1.41.59.51 0 1.02-.2 1.41-.59l7.78-7.78 2.81-2.81c.8-.78.8-2.07 0-2.86zM5.41 20L4 18.59l7.72-7.72 1.47 1.35L5.41 20z\"/>\n",
              "  </svg>\n",
              "      </button>\n",
              "      \n",
              "  <style>\n",
              "    .colab-df-container {\n",
              "      display:flex;\n",
              "      flex-wrap:wrap;\n",
              "      gap: 12px;\n",
              "    }\n",
              "\n",
              "    .colab-df-convert {\n",
              "      background-color: #E8F0FE;\n",
              "      border: none;\n",
              "      border-radius: 50%;\n",
              "      cursor: pointer;\n",
              "      display: none;\n",
              "      fill: #1967D2;\n",
              "      height: 32px;\n",
              "      padding: 0 0 0 0;\n",
              "      width: 32px;\n",
              "    }\n",
              "\n",
              "    .colab-df-convert:hover {\n",
              "      background-color: #E2EBFA;\n",
              "      box-shadow: 0px 1px 2px rgba(60, 64, 67, 0.3), 0px 1px 3px 1px rgba(60, 64, 67, 0.15);\n",
              "      fill: #174EA6;\n",
              "    }\n",
              "\n",
              "    [theme=dark] .colab-df-convert {\n",
              "      background-color: #3B4455;\n",
              "      fill: #D2E3FC;\n",
              "    }\n",
              "\n",
              "    [theme=dark] .colab-df-convert:hover {\n",
              "      background-color: #434B5C;\n",
              "      box-shadow: 0px 1px 3px 1px rgba(0, 0, 0, 0.15);\n",
              "      filter: drop-shadow(0px 1px 2px rgba(0, 0, 0, 0.3));\n",
              "      fill: #FFFFFF;\n",
              "    }\n",
              "  </style>\n",
              "\n",
              "      <script>\n",
              "        const buttonEl =\n",
              "          document.querySelector('#df-0b102f4c-0454-4459-9835-21357949a9ad button.colab-df-convert');\n",
              "        buttonEl.style.display =\n",
              "          google.colab.kernel.accessAllowed ? 'block' : 'none';\n",
              "\n",
              "        async function convertToInteractive(key) {\n",
              "          const element = document.querySelector('#df-0b102f4c-0454-4459-9835-21357949a9ad');\n",
              "          const dataTable =\n",
              "            await google.colab.kernel.invokeFunction('convertToInteractive',\n",
              "                                                     [key], {});\n",
              "          if (!dataTable) return;\n",
              "\n",
              "          const docLinkHtml = 'Like what you see? Visit the ' +\n",
              "            '<a target=\"_blank\" href=https://colab.research.google.com/notebooks/data_table.ipynb>data table notebook</a>'\n",
              "            + ' to learn more about interactive tables.';\n",
              "          element.innerHTML = '';\n",
              "          dataTable['output_type'] = 'display_data';\n",
              "          await google.colab.output.renderOutput(dataTable, element);\n",
              "          const docLink = document.createElement('div');\n",
              "          docLink.innerHTML = docLinkHtml;\n",
              "          element.appendChild(docLink);\n",
              "        }\n",
              "      </script>\n",
              "    </div>\n",
              "  </div>\n",
              "  "
            ]
          },
          "metadata": {},
          "execution_count": 4
        }
      ]
    },
    {
      "cell_type": "code",
      "source": [
        "# Function info() used to display general informaion about dataset\n",
        "df.info()"
      ],
      "metadata": {
        "colab": {
          "base_uri": "https://localhost:8080/"
        },
        "id": "2QH0h7YeoQGm",
        "outputId": "deeeae8c-16ab-44ac-a220-49784d7781a1"
      },
      "execution_count": null,
      "outputs": [
        {
          "output_type": "stream",
          "name": "stdout",
          "text": [
            "<class 'pandas.core.frame.DataFrame'>\n",
            "DatetimeIndex: 3201 entries, 2008-05-26 to 2021-04-30\n",
            "Data columns (total 14 columns):\n",
            " #   Column              Non-Null Count  Dtype  \n",
            "---  ------              --------------  -----  \n",
            " 0   Symbol              3201 non-null   object \n",
            " 1   Series              3201 non-null   object \n",
            " 2   Prev Close          3201 non-null   float64\n",
            " 3   Open                3201 non-null   float64\n",
            " 4   High                3201 non-null   float64\n",
            " 5   Low                 3201 non-null   float64\n",
            " 6   Last                3201 non-null   float64\n",
            " 7   Close               3201 non-null   float64\n",
            " 8   VWAP                3201 non-null   float64\n",
            " 9   Volume              3201 non-null   int64  \n",
            " 10  Turnover            3201 non-null   float64\n",
            " 11  Trades              2456 non-null   float64\n",
            " 12  Deliverable Volume  3201 non-null   int64  \n",
            " 13  %Deliverble         3201 non-null   float64\n",
            "dtypes: float64(10), int64(2), object(2)\n",
            "memory usage: 375.1+ KB\n"
          ]
        }
      ]
    },
    {
      "cell_type": "code",
      "source": [
        "df.dtypes"
      ],
      "metadata": {
        "colab": {
          "base_uri": "https://localhost:8080/"
        },
        "id": "9JN9RkaQJKh-",
        "outputId": "64cded18-ead2-455e-b70b-b7bb471cdc45"
      },
      "execution_count": null,
      "outputs": [
        {
          "output_type": "execute_result",
          "data": {
            "text/plain": [
              "Symbol                 object\n",
              "Series                 object\n",
              "Prev Close            float64\n",
              "Open                  float64\n",
              "High                  float64\n",
              "Low                   float64\n",
              "Last                  float64\n",
              "Close                 float64\n",
              "VWAP                  float64\n",
              "Volume                  int64\n",
              "Turnover              float64\n",
              "Trades                float64\n",
              "Deliverable Volume      int64\n",
              "%Deliverble           float64\n",
              "dtype: object"
            ]
          },
          "metadata": {},
          "execution_count": 6
        }
      ]
    },
    {
      "cell_type": "code",
      "source": [
        "# Drop null values from the dataframe\n",
        "df = df.dropna()\n",
        "\n",
        "# Display the sumof null values\n",
        "df.isnull().sum()"
      ],
      "metadata": {
        "colab": {
          "base_uri": "https://localhost:8080/"
        },
        "id": "sFCJ1ZCoJjfP",
        "outputId": "37420bf7-ae71-4710-f13b-56c3c190559a"
      },
      "execution_count": null,
      "outputs": [
        {
          "output_type": "execute_result",
          "data": {
            "text/plain": [
              "Symbol                0\n",
              "Series                0\n",
              "Prev Close            0\n",
              "Open                  0\n",
              "High                  0\n",
              "Low                   0\n",
              "Last                  0\n",
              "Close                 0\n",
              "VWAP                  0\n",
              "Volume                0\n",
              "Turnover              0\n",
              "Trades                0\n",
              "Deliverable Volume    0\n",
              "%Deliverble           0\n",
              "dtype: int64"
            ]
          },
          "metadata": {},
          "execution_count": 7
        }
      ]
    },
    {
      "cell_type": "code",
      "source": [
        "# Display the information of the dataframe\n",
        "df.info()"
      ],
      "metadata": {
        "colab": {
          "base_uri": "https://localhost:8080/"
        },
        "id": "ofuvl5L3JKmB",
        "outputId": "97d34058-97b6-4b3b-e068-50871588b28b"
      },
      "execution_count": null,
      "outputs": [
        {
          "output_type": "stream",
          "name": "stdout",
          "text": [
            "<class 'pandas.core.frame.DataFrame'>\n",
            "DatetimeIndex: 2456 entries, 2011-06-01 to 2021-04-30\n",
            "Data columns (total 14 columns):\n",
            " #   Column              Non-Null Count  Dtype  \n",
            "---  ------              --------------  -----  \n",
            " 0   Symbol              2456 non-null   object \n",
            " 1   Series              2456 non-null   object \n",
            " 2   Prev Close          2456 non-null   float64\n",
            " 3   Open                2456 non-null   float64\n",
            " 4   High                2456 non-null   float64\n",
            " 5   Low                 2456 non-null   float64\n",
            " 6   Last                2456 non-null   float64\n",
            " 7   Close               2456 non-null   float64\n",
            " 8   VWAP                2456 non-null   float64\n",
            " 9   Volume              2456 non-null   int64  \n",
            " 10  Turnover            2456 non-null   float64\n",
            " 11  Trades              2456 non-null   float64\n",
            " 12  Deliverable Volume  2456 non-null   int64  \n",
            " 13  %Deliverble         2456 non-null   float64\n",
            "dtypes: float64(10), int64(2), object(2)\n",
            "memory usage: 287.8+ KB\n"
          ]
        }
      ]
    },
    {
      "cell_type": "markdown",
      "source": [
        "By applying this code i achieved the following result"
      ],
      "metadata": {
        "id": "wmg94OHG4omG"
      }
    },
    {
      "cell_type": "code",
      "source": [
        "df['Close'].plot(figsize=(12,5))"
      ],
      "metadata": {
        "colab": {
          "base_uri": "https://localhost:8080/",
          "height": 335
        },
        "id": "IjRMaLBAJKo6",
        "outputId": "a075ca44-05df-4345-8a29-28451ca1eacb"
      },
      "execution_count": null,
      "outputs": [
        {
          "output_type": "execute_result",
          "data": {
            "text/plain": [
              "<matplotlib.axes._subplots.AxesSubplot at 0x7f46ed5b43d0>"
            ]
          },
          "metadata": {},
          "execution_count": 9
        },
        {
          "output_type": "display_data",
          "data": {
            "text/plain": [
              "<Figure size 864x360 with 1 Axes>"
            ],
            "image/png": "[encoded data removed]"
          },
          "metadata": {
            "needs_background": "light"
          }
        }
      ]
    },
    {
      "cell_type": "markdown",
      "source": [
        "I need to convert daily movement to monthly by using resample. After this, we need to group the data. The data is not stationary however looks seasonal (Price change)\n",
        "We will resample the aggregation of data by using this function.\n"
      ],
      "metadata": {
        "id": "uAlnYhv2bd3C"
      }
    },
    {
      "cell_type": "code",
      "source": [
        "# MS mean Month Start \n",
        "ts=df['Close'].resample('MS').sum()\n"
      ],
      "metadata": {
        "id": "lDClXYXdKS8m"
      },
      "execution_count": null,
      "outputs": []
    },
    {
      "cell_type": "code",
      "source": [
        "ts.head(5)"
      ],
      "metadata": {
        "colab": {
          "base_uri": "https://localhost:8080/"
        },
        "id": "VwDLHGc5b35Q",
        "outputId": "e76f46d5-ea33-4d76-d88a-c525dc533f98"
      },
      "execution_count": null,
      "outputs": [
        {
          "output_type": "execute_result",
          "data": {
            "text/plain": [
              "Date\n",
              "2011-06-01    11561.05\n",
              "2011-07-01    11192.90\n",
              "2011-08-01    10706.65\n",
              "2011-09-01    11458.10\n",
              "2011-10-01    10059.55\n",
              "Freq: MS, Name: Close, dtype: float64"
            ]
          },
          "metadata": {},
          "execution_count": 11
        }
      ]
    },
    {
      "cell_type": "code",
      "source": [
        "ts.plot()"
      ],
      "metadata": {
        "colab": {
          "base_uri": "https://localhost:8080/",
          "height": 296
        },
        "id": "H5CEaY3gKS_Z",
        "outputId": "5ec8d2dc-5530-4c1f-c302-b95409087d13"
      },
      "execution_count": null,
      "outputs": [
        {
          "output_type": "execute_result",
          "data": {
            "text/plain": [
              "<matplotlib.axes._subplots.AxesSubplot at 0x7f46ed47e790>"
            ]
          },
          "metadata": {},
          "execution_count": 12
        },
        {
          "output_type": "display_data",
          "data": {
            "text/plain": [
              "<Figure size 432x288 with 1 Axes>"
            ],
            "image/png": "[encoded data removed]"
          },
          "metadata": {
            "needs_background": "light"
          }
        }
      ]
    },
    {
      "cell_type": "markdown",
      "source": [
        "The movement in the chart means the data has the seasonality."
      ],
      "metadata": {
        "id": "DpO5IE8OhhJG"
      }
    },
    {
      "cell_type": "markdown",
      "source": [
        "Stationarity check. \n",
        "To check if the data is stationary we will use this code."
      ],
      "metadata": {
        "id": "yon_FwL36EBa"
      }
    },
    {
      "cell_type": "code",
      "source": [
        "decomposition = sm.tsa.seasonal_decompose(ts, model='additive')\n",
        "fig = decomposition.plot()\n",
        "plt.show()"
      ],
      "metadata": {
        "colab": {
          "base_uri": "https://localhost:8080/",
          "height": 297
        },
        "id": "XF9pcGFRKhp4",
        "outputId": "65793b51-8e30-4074-cc3c-ba26a97e3008"
      },
      "execution_count": null,
      "outputs": [
        {
          "output_type": "display_data",
          "data": {
            "text/plain": [
              "<Figure size 432x288 with 4 Axes>"
            ],
            "image/png": "[encoded data removed]"
          },
          "metadata": {
            "needs_background": "light"
          }
        }
      ]
    },
    {
      "cell_type": "markdown",
      "source": [
        "If the series has no trend that means the series is stationary.\n",
        "It is evident that our data is not in the stationarity series. In the forecasting, we need to change the series to stationarity by removing trend and seasonality. We separate the data to remove trend and seasonality in order to make it stationary.\n"
      ],
      "metadata": {
        "id": "5csJiWVGh9Fn"
      }
    },
    {
      "cell_type": "code",
      "source": [
        "from statsmodels.tsa.stattools import adfuller\n",
        "#test_results=adfuller(df['Close'])"
      ],
      "metadata": {
        "id": "9Dkm7m2-kYS_"
      },
      "execution_count": null,
      "outputs": []
    },
    {
      "cell_type": "code",
      "source": [
        "test_results=adfuller(ts)"
      ],
      "metadata": {
        "id": "KaPbhhwyk2oT"
      },
      "execution_count": null,
      "outputs": []
    },
    {
      "cell_type": "markdown",
      "source": [
        "I I will apply the Hypotheses by using  this code:"
      ],
      "metadata": {
        "id": "Q5CAVT2J6WN2"
      }
    },
    {
      "cell_type": "code",
      "source": [
        "#Ho: it is no stationary\n",
        "#H1: it is stationary\n",
        "\n",
        "def adfuller_test(Close):\n",
        "  result=adfuller(Close)\n",
        "  labels = ['ADF Test Statistic','p-value','#Lags Used','Number of Observations Used']\n",
        "  for value,label in zip(result,labels):\n",
        "    print(label+' : '+str(value) )\n",
        "  if result[1] <= 0.05:\n",
        "    print('strong evidence against the null Hypothesis (Ho) reject the null hypothesis. Data has no , unit root and is stattionary')\n",
        "  else:\n",
        "    print('weak evedrnce against null hypothesis, time series has a unit root, indicating it is non-stationary')"
      ],
      "metadata": {
        "id": "Vr-dBn_qkYgl"
      },
      "execution_count": null,
      "outputs": []
    },
    {
      "cell_type": "code",
      "source": [
        "adfuller_test(df['Close'])"
      ],
      "metadata": {
        "colab": {
          "base_uri": "https://localhost:8080/"
        },
        "id": "WZrlamNOkYk1",
        "outputId": "445a8cbd-7efa-4bef-ff76-663028bdf7cc"
      },
      "execution_count": null,
      "outputs": [
        {
          "output_type": "stream",
          "name": "stdout",
          "text": [
            "ADF Test Statistic : 0.16606898760495623\n",
            "p-value : 0.9702929918556449\n",
            "#Lags Used : 23\n",
            "Number of Observations Used : 2432\n",
            "weak evedrnce against null hypothesis, time series has a unit root, indicating it is non-stationary\n"
          ]
        }
      ]
    },
    {
      "cell_type": "markdown",
      "source": [
        "If my p-value is less than 0.05 this illustrates that the data is stationary. P-value of adfuller test is 0.97 > 0.05 which means the series is not stationary in our data."
      ],
      "metadata": {
        "id": "QJPMYwaqlGFo"
      }
    },
    {
      "cell_type": "markdown",
      "source": [
        "##**Train test split**"
      ],
      "metadata": {
        "id": "tCRpawoqcba2"
      }
    },
    {
      "cell_type": "code",
      "source": [
        "len(ts)"
      ],
      "metadata": {
        "colab": {
          "base_uri": "https://localhost:8080/"
        },
        "id": "yCKLkTSXKhsE",
        "outputId": "9e84be07-4fab-4d84-c1c0-1d766c54f542"
      },
      "execution_count": null,
      "outputs": [
        {
          "output_type": "execute_result",
          "data": {
            "text/plain": [
              "119"
            ]
          },
          "metadata": {},
          "execution_count": 18
        }
      ]
    },
    {
      "cell_type": "code",
      "source": [
        "train=ts[:99]\n",
        "test=ts[99:]"
      ],
      "metadata": {
        "id": "ZckT5XE3Khu4"
      },
      "execution_count": null,
      "outputs": []
    },
    {
      "cell_type": "markdown",
      "source": [
        "##**ARIMA Model Building**"
      ],
      "metadata": {
        "id": "DD8g7bmmdVDP"
      }
    },
    {
      "cell_type": "markdown",
      "source": [
        "To build the ARIMA model we need to import the ARIMA package. we give the order 1,0,0 and fit the model."
      ],
      "metadata": {
        "id": "ndMTe3mB7GmG"
      }
    },
    {
      "cell_type": "code",
      "source": [
        "#pass the train data set and give the order and fit the model\n",
        "model=ARIMA(train,order=(1,0,0)).fit()"
      ],
      "metadata": {
        "id": "wKe0GCzLLdQg"
      },
      "execution_count": null,
      "outputs": []
    },
    {
      "cell_type": "markdown",
      "source": [
        "##**Predict test data**"
      ],
      "metadata": {
        "id": "pkecRfQsdiu-"
      }
    },
    {
      "cell_type": "code",
      "source": [
        "len(train)"
      ],
      "metadata": {
        "colab": {
          "base_uri": "https://localhost:8080/"
        },
        "id": "NTZc1GAZC506",
        "outputId": "01c25b9b-b9ba-492c-a166-634ee25a34b2"
      },
      "execution_count": null,
      "outputs": [
        {
          "output_type": "execute_result",
          "data": {
            "text/plain": [
              "99"
            ]
          },
          "metadata": {},
          "execution_count": 21
        }
      ]
    },
    {
      "cell_type": "code",
      "source": [
        "\n",
        "pred=model.predict(start=len(train),end=(len(ts)-1))"
      ],
      "metadata": {
        "id": "PK1Ukl8GLfA3"
      },
      "execution_count": null,
      "outputs": []
    },
    {
      "cell_type": "markdown",
      "source": [
        "The predicting starts on 99 by using this command.\n"
      ],
      "metadata": {
        "id": "gkiIBUo7CrqM"
      }
    },
    {
      "cell_type": "markdown",
      "source": [
        "##**Model Evaluation**"
      ],
      "metadata": {
        "id": "0JQrIdPndp-u"
      }
    },
    {
      "cell_type": "markdown",
      "source": [
        "based on that prediction I can evaluate the mode and analyse its performance. \n",
        " "
      ],
      "metadata": {
        "id": "clIH2DEcHCoy"
      }
    },
    {
      "cell_type": "code",
      "source": [
        "from sklearn.metrics import mean_squared_error"
      ],
      "metadata": {
        "id": "nIPlxOE6A-KG"
      },
      "execution_count": null,
      "outputs": []
    },
    {
      "cell_type": "code",
      "source": [
        "error=np.sqrt(mean_squared_error(test,pred))\n",
        "error"
      ],
      "metadata": {
        "colab": {
          "base_uri": "https://localhost:8080/"
        },
        "id": "XfmdRY8JLfIJ",
        "outputId": "cd2d9537-f8cf-477d-f5fd-427e31f683a0"
      },
      "execution_count": null,
      "outputs": [
        {
          "output_type": "execute_result",
          "data": {
            "text/plain": [
              "46464.26291007042"
            ]
          },
          "metadata": {},
          "execution_count": 24
        }
      ]
    },
    {
      "cell_type": "code",
      "source": [
        "test.mean(), np.sqrt(test.var())"
      ],
      "metadata": {
        "colab": {
          "base_uri": "https://localhost:8080/"
        },
        "id": "GzlHeE0vLt-T",
        "outputId": "5a49258a-24b2-4aca-bb85-ad2123375778"
      },
      "execution_count": null,
      "outputs": [
        {
          "output_type": "execute_result",
          "data": {
            "text/plain": [
              "(158625.38499999995, 38541.20313999954)"
            ]
          },
          "metadata": {},
          "execution_count": 25
        }
      ]
    },
    {
      "cell_type": "markdown",
      "source": [
        "here we can see that in is not good model"
      ],
      "metadata": {
        "id": "mTU8XCiIHZxn"
      }
    },
    {
      "cell_type": "code",
      "source": [
        "train.plot(legend=True, label='Train', figsize=(10,6))\n",
        "test.plot(legend=True, label='Test')\n",
        "pred.plot(legend=True, label='predictionARIMA')"
      ],
      "metadata": {
        "colab": {
          "base_uri": "https://localhost:8080/",
          "height": 405
        },
        "id": "6E1Uees_LuBE",
        "outputId": "389a5f48-406e-4114-e3f4-9c70ce8babb2"
      },
      "execution_count": null,
      "outputs": [
        {
          "output_type": "execute_result",
          "data": {
            "text/plain": [
              "<matplotlib.axes._subplots.AxesSubplot at 0x7f46ed4fe8b0>"
            ]
          },
          "metadata": {},
          "execution_count": 26
        },
        {
          "output_type": "display_data",
          "data": {
            "text/plain": [
              "<Figure size 720x432 with 1 Axes>"
            ],
            "image/png": "[encoded data removed]"
          },
          "metadata": {
            "needs_background": "light"
          }
        }
      ]
    },
    {
      "cell_type": "markdown",
      "source": [
        "I can see in this plot the train part, test part and prediction part.  It is clear that ARIMA can't capture the seasonality, it can only capture the trend."
      ],
      "metadata": {
        "id": "MhKBKAd2HpPG"
      }
    },
    {
      "cell_type": "markdown",
      "source": [
        "##**Predict Future Data**"
      ],
      "metadata": {
        "id": "basKFIiSdzAl"
      }
    },
    {
      "cell_type": "code",
      "source": [
        "#build on full data\n",
        "Final_model=ARIMA(ts,order=(1,0,0)).fit() "
      ],
      "metadata": {
        "id": "VUefV9foLuDd"
      },
      "execution_count": null,
      "outputs": []
    },
    {
      "cell_type": "code",
      "source": [
        "prediction=Final_model.predict(len(ts),len(ts)+10)"
      ],
      "metadata": {
        "id": "qfdrTIOILuF7"
      },
      "execution_count": null,
      "outputs": []
    },
    {
      "cell_type": "markdown",
      "source": [
        "When I use the entire data to predict the final model, I apply  here 10 months to predict the future."
      ],
      "metadata": {
        "id": "tITbBZnBI0uV"
      }
    },
    {
      "cell_type": "markdown",
      "source": [
        "Here I Plot the entire time series.\n"
      ],
      "metadata": {
        "id": "Mjgofqx08tGz"
      }
    },
    {
      "cell_type": "code",
      "source": [
        "ts.plot(legend=True, label='Train', figsize=(10,6))\n",
        "prediction.plot(legend=True, label='prediction')"
      ],
      "metadata": {
        "colab": {
          "base_uri": "https://localhost:8080/",
          "height": 405
        },
        "id": "uMVmIZuLL4JA",
        "outputId": "a4189bdd-d78e-43a0-c886-46656260634c"
      },
      "execution_count": null,
      "outputs": [
        {
          "output_type": "execute_result",
          "data": {
            "text/plain": [
              "<matplotlib.axes._subplots.AxesSubplot at 0x7f46e84e8580>"
            ]
          },
          "metadata": {},
          "execution_count": 29
        },
        {
          "output_type": "display_data",
          "data": {
            "text/plain": [
              "<Figure size 720x432 with 1 Axes>"
            ],
            "image/png": "[encoded data removed]"
          },
          "metadata": {
            "needs_background": "light"
          }
        }
      ]
    },
    {
      "cell_type": "code",
      "source": [
        "df['S1']= df['Close'] - df['Close'].shift(1)\n",
        "df['S2']= df['Close'] - df['Close'].shift(12)"
      ],
      "metadata": {
        "id": "8Ce6wNXgOD7p"
      },
      "execution_count": null,
      "outputs": []
    },
    {
      "cell_type": "code",
      "source": [
        "# Test dickey fuller test \n",
        "adfuller_test(df['S2'].dropna())"
      ],
      "metadata": {
        "colab": {
          "base_uri": "https://localhost:8080/"
        },
        "id": "qLnWIWbiOEAo",
        "outputId": "f76c5bc0-80ac-4245-bbe2-710061243455"
      },
      "execution_count": null,
      "outputs": [
        {
          "output_type": "stream",
          "name": "stdout",
          "text": [
            "ADF Test Statistic : -7.15361131567691\n",
            "p-value : 3.095279177038505e-10\n",
            "#Lags Used : 27\n",
            "Number of Observations Used : 2416\n",
            "strong evidence against the null Hypothesis (Ho) reject the null hypothesis. Data has no , unit root and is stattionary\n"
          ]
        }
      ]
    },
    {
      "cell_type": "markdown",
      "source": [
        "P value here less then 0.05 that mean the data is stationary "
      ],
      "metadata": {
        "id": "YOVa2D27Pf2U"
      }
    },
    {
      "cell_type": "code",
      "source": [
        "df['S2'].plot()"
      ],
      "metadata": {
        "colab": {
          "base_uri": "https://localhost:8080/",
          "height": 288
        },
        "id": "7Rnth3WgOJlJ",
        "outputId": "1949d5a8-6ca1-487e-fc19-8f41ebeb3867"
      },
      "execution_count": null,
      "outputs": [
        {
          "output_type": "execute_result",
          "data": {
            "text/plain": [
              "<matplotlib.axes._subplots.AxesSubplot at 0x7f46e841e760>"
            ]
          },
          "metadata": {},
          "execution_count": 32
        },
        {
          "output_type": "display_data",
          "data": {
            "text/plain": [
              "<Figure size 432x288 with 1 Axes>"
            ],
            "image/png": "[encoded data removed]"
          },
          "metadata": {
            "needs_background": "light"
          }
        }
      ]
    },
    {
      "cell_type": "markdown",
      "source": [
        "I can see in this plot that the data looks more stationary\n",
        "Now it seems to be centred around zero ,rather growing over time.\n",
        "\n",
        "\n"
      ],
      "metadata": {
        "id": "BlbFGgBnPzJf"
      }
    },
    {
      "cell_type": "code",
      "source": [
        "fig=plt.figure(figsize=(12,8))\n",
        "ax1= fig.add_subplot(211)\n",
        "fig = sm.graphics.tsa.plot_acf(df['S2'].iloc[13:],lags=50,ax=ax1)\n",
        "ax2 = fig.add_subplot(212)\n",
        "fig = sm.graphics.tsa.plot_pacf(df['S2'].iloc[13:],lags=50,ax=ax2)"
      ],
      "metadata": {
        "colab": {
          "base_uri": "https://localhost:8080/",
          "height": 499
        },
        "id": "5jtXkeUMOJoT",
        "outputId": "0365d256-8dd5-4965-a8e0-8ffd2506fdfa"
      },
      "execution_count": null,
      "outputs": [
        {
          "output_type": "display_data",
          "data": {
            "text/plain": [
              "<Figure size 864x576 with 2 Axes>"
            ],
            "image/png": "[encoded data removed]"
          },
          "metadata": {
            "needs_background": "light"
          }
        }
      ]
    },
    {
      "cell_type": "markdown",
      "source": [
        "ACF here displays weak evidence. \n",
        "ACF means Autocorrelation and PACF means partial Autocorrelation. The blue bars are the error bands. Anything blue is not statistically significant. On the partial Autocorrelation, we can see 1,2,13,25 and 38 strong lags. Based on this information, I should start with an auto regressive with the mode lags we said already. This plot gives us an idea about where to start with our time series. The tools ACF and PACF will not provide us with our final answer, it's to help me get to a starting point and understand the time series.\n",
        "\n",
        "The reason for this is because it is very hard to predict the future in the stock market. Stock price is not an easy problem to predict. \n"
      ],
      "metadata": {
        "id": "Hu9aYJMpUVr3"
      }
    }
  ]
}